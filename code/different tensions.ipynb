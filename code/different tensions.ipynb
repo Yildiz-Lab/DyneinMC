{
 "metadata": {
  "name": ""
 },
 "nbformat": 3,
 "nbformat_minor": 0,
 "worksheets": [
  {
   "cells": [
    {
     "cell_type": "code",
     "collapsed": false,
     "input": [
      "%matplotlib inline\n",
      "import pandas as pd\n",
      "import numpy as np\n",
      "import matplotlib.pyplot as plt"
     ],
     "language": "python",
     "metadata": {},
     "outputs": [],
     "prompt_number": 4
    },
    {
     "cell_type": "code",
     "collapsed": false,
     "input": [
      "rates = pd.read_csv('simulations/rates.csv')\n",
      "mutants = pd.read_csv('simulations/mutants.csv')\n",
      "rates = rates.set_index('head')\n",
      "rates = rates.T\n",
      "mutants = mutants.set_index('mutant')\n",
      "mutants = mutants.T\n",
      "rates"
     ],
     "language": "python",
     "metadata": {},
     "outputs": [
      {
       "html": [
        "<div style=\"max-height:1000px;max-width:1500px;overflow:auto;\">\n",
        "<table border=\"1\" class=\"dataframe\">\n",
        "  <thead>\n",
        "    <tr style=\"text-align: right;\">\n",
        "      <th>head</th>\n",
        "      <th>c_a1</th>\n",
        "      <th>c_a3</th>\n",
        "      <th>c_wt</th>\n",
        "      <th>l_a3</th>\n",
        "      <th>l_wt</th>\n",
        "    </tr>\n",
        "  </thead>\n",
        "  <tbody>\n",
        "    <tr>\n",
        "      <th>tstepback</th>\n",
        "      <td> 23.166913</td>\n",
        "      <td> 1.558743</td>\n",
        "      <td> 15.461032</td>\n",
        "      <td> 2.582504</td>\n",
        "      <td> 1.563806</td>\n",
        "    </tr>\n",
        "    <tr>\n",
        "      <th>nodirrelease</th>\n",
        "      <td> 22.482486</td>\n",
        "      <td> 1.726590</td>\n",
        "      <td> 15.631029</td>\n",
        "      <td> 2.374882</td>\n",
        "      <td> 1.194273</td>\n",
        "    </tr>\n",
        "    <tr>\n",
        "      <th>tstepforwint</th>\n",
        "      <td>  3.182369</td>\n",
        "      <td> 0.802838</td>\n",
        "      <td> 12.040967</td>\n",
        "      <td> 1.637852</td>\n",
        "      <td>-0.347991</td>\n",
        "    </tr>\n",
        "    <tr>\n",
        "      <th>tstepforwslope</th>\n",
        "      <td>  0.662225</td>\n",
        "      <td> 0.105385</td>\n",
        "      <td>  0.480819</td>\n",
        "      <td> 0.215502</td>\n",
        "      <td> 0.198887</td>\n",
        "    </tr>\n",
        "    <tr>\n",
        "      <th>atprelease</th>\n",
        "      <td>  0.000000</td>\n",
        "      <td> 0.000000</td>\n",
        "      <td>  0.000000</td>\n",
        "      <td> 0.600000</td>\n",
        "      <td> 8.000000</td>\n",
        "    </tr>\n",
        "  </tbody>\n",
        "</table>\n",
        "<p>5 rows \u00d7 5 columns</p>\n",
        "</div>"
       ],
       "metadata": {},
       "output_type": "pyout",
       "prompt_number": 18,
       "text": [
        "head                 c_a1      c_a3       c_wt      l_a3      l_wt\n",
        "tstepback       23.166913  1.558743  15.461032  2.582504  1.563806\n",
        "nodirrelease    22.482486  1.726590  15.631029  2.374882  1.194273\n",
        "tstepforwint     3.182369  0.802838  12.040967  1.637852 -0.347991\n",
        "tstepforwslope   0.662225  0.105385   0.480819  0.215502  0.198887\n",
        "atprelease       0.000000  0.000000   0.000000  0.600000  8.000000\n",
        "\n",
        "[5 rows x 5 columns]"
       ]
      }
     ],
     "prompt_number": 18
    },
    {
     "cell_type": "code",
     "collapsed": false,
     "input": [
      "mutants"
     ],
     "language": "python",
     "metadata": {},
     "outputs": [
      {
       "html": [
        "<div style=\"max-height:1000px;max-width:1500px;overflow:auto;\">\n",
        "<table border=\"1\" class=\"dataframe\">\n",
        "  <thead>\n",
        "    <tr style=\"text-align: right;\">\n",
        "      <th>mutant</th>\n",
        "      <th>blh_blh</th>\n",
        "      <th>blh_flh</th>\n",
        "      <th>blh_a1flh</th>\n",
        "      <th>blh_a3flh</th>\n",
        "      <th>a3blh_blh</th>\n",
        "      <th>a3blh_flh</th>\n",
        "    </tr>\n",
        "  </thead>\n",
        "  <tbody>\n",
        "    <tr>\n",
        "      <th>h1</th>\n",
        "      <td> l_wt</td>\n",
        "      <td> l_wt</td>\n",
        "      <td> l_wt</td>\n",
        "      <td> l_wt</td>\n",
        "      <td> l_a3</td>\n",
        "      <td> l_a3</td>\n",
        "    </tr>\n",
        "    <tr>\n",
        "      <th>h2</th>\n",
        "      <td> l_wt</td>\n",
        "      <td> c_wt</td>\n",
        "      <td> c_a1</td>\n",
        "      <td> c_a3</td>\n",
        "      <td> l_wt</td>\n",
        "      <td> c_wt</td>\n",
        "    </tr>\n",
        "  </tbody>\n",
        "</table>\n",
        "<p>2 rows \u00d7 6 columns</p>\n",
        "</div>"
       ],
       "metadata": {},
       "output_type": "pyout",
       "prompt_number": 6,
       "text": [
        "mutant blh_blh blh_flh blh_a1flh blh_a3flh a3blh_blh a3blh_flh\n",
        "h1        l_wt    l_wt      l_wt      l_wt      l_a3      l_a3\n",
        "h2        l_wt    c_wt      c_a1      c_a3      l_wt      c_wt\n",
        "\n",
        "[2 rows x 6 columns]"
       ]
      }
     ],
     "prompt_number": 6
    },
    {
     "cell_type": "code",
     "collapsed": false,
     "input": [
      "sg = pd.read_csv('simulations/sizes.csv', header=None, index_col=0) \n",
      "sg = sg[1].to_dict()\n",
      "sg"
     ],
     "language": "python",
     "metadata": {},
     "outputs": [
      {
       "metadata": {},
       "output_type": "pyout",
       "prompt_number": 7,
       "text": [
        "{'diffstop': 20, 'distwidth': 16, 'fwdbias': 8, 'tensionbias': 8, 'tstart': 12}"
       ]
      }
     ],
     "prompt_number": 7
    },
    {
     "cell_type": "code",
     "collapsed": false,
     "input": [
      "from findrates import main\n",
      "main(12)"
     ],
     "language": "python",
     "metadata": {},
     "outputs": [],
     "prompt_number": 23
    },
    {
     "cell_type": "code",
     "collapsed": false,
     "input": [
      "from cmparallel import get_traces\n",
      "results = pd.DataFrame()\n",
      "for col in mutants.columns:\n",
      "    ratedict = {}\n",
      "    for head in mutants.index:\n",
      "        r = rates[mutants.loc[head, col]].to_dict()\n",
      "        r = {head + k: v for k, v in r.iteritems()}\n",
      "        ratedict.update(r)\n",
      "    mean, sd = get_traces(col, ratedict, sg, num_traces=50, n_iterations=20000, time_step=0.005)\n",
      "    results[col] = pd.Series({'simMean': mean, 'simS.D.': sd})\n",
      "results"
     ],
     "language": "python",
     "metadata": {},
     "outputs": [
      {
       "output_type": "stream",
       "stream": "stdout",
       "text": [
        "blh_blh\n",
        "Took: 8.47 s\n",
        "Mean: 51.10 nm/s\n",
        "blh_flh"
       ]
      },
      {
       "output_type": "stream",
       "stream": "stdout",
       "text": [
        "\n",
        "Took: 9.32 s\n",
        "Mean: 49.36 nm/s\n",
        "blh_a1flh"
       ]
      },
      {
       "output_type": "stream",
       "stream": "stdout",
       "text": [
        "\n",
        "Took: 9.39 s\n",
        "Mean: 40.80 nm/s\n",
        "blh_a3flh"
       ]
      },
      {
       "output_type": "stream",
       "stream": "stdout",
       "text": [
        "\n",
        "Took: 6.90 s\n",
        "Mean: 25.18 nm/s\n",
        "a3blh_blh"
       ]
      },
      {
       "output_type": "stream",
       "stream": "stdout",
       "text": [
        "\n",
        "Took: 6.77 s\n",
        "Mean: 37.56 nm/s\n",
        "a3blh_flh"
       ]
      },
      {
       "output_type": "stream",
       "stream": "stdout",
       "text": [
        "\n",
        "Took: 8.42 s\n",
        "Mean: 17.21 nm/s\n"
       ]
      },
      {
       "html": [
        "<div style=\"max-height:1000px;max-width:1500px;overflow:auto;\">\n",
        "<table border=\"1\" class=\"dataframe\">\n",
        "  <thead>\n",
        "    <tr style=\"text-align: right;\">\n",
        "      <th></th>\n",
        "      <th>blh_blh</th>\n",
        "      <th>blh_flh</th>\n",
        "      <th>blh_a1flh</th>\n",
        "      <th>blh_a3flh</th>\n",
        "      <th>a3blh_blh</th>\n",
        "      <th>a3blh_flh</th>\n",
        "    </tr>\n",
        "  </thead>\n",
        "  <tbody>\n",
        "    <tr>\n",
        "      <th>simMean</th>\n",
        "      <td> 51.095581</td>\n",
        "      <td> 49.358362</td>\n",
        "      <td> 40.795681</td>\n",
        "      <td> 25.181695</td>\n",
        "      <td> 37.560965</td>\n",
        "      <td> 17.205141</td>\n",
        "    </tr>\n",
        "    <tr>\n",
        "      <th>simS.D.</th>\n",
        "      <td>  3.429281</td>\n",
        "      <td>  5.016851</td>\n",
        "      <td>  3.616109</td>\n",
        "      <td>  3.451036</td>\n",
        "      <td>  3.763742</td>\n",
        "      <td>  3.559391</td>\n",
        "    </tr>\n",
        "  </tbody>\n",
        "</table>\n",
        "<p>2 rows \u00d7 6 columns</p>\n",
        "</div>"
       ],
       "metadata": {},
       "output_type": "pyout",
       "prompt_number": 24,
       "text": [
        "           blh_blh    blh_flh  blh_a1flh  blh_a3flh  a3blh_blh  a3blh_flh\n",
        "simMean  51.095581  49.358362  40.795681  25.181695  37.560965  17.205141\n",
        "simS.D.   3.429281   5.016851   3.616109   3.451036   3.763742   3.559391\n",
        "\n",
        "[2 rows x 6 columns]"
       ]
      }
     ],
     "prompt_number": 24
    },
    {
     "cell_type": "code",
     "collapsed": false,
     "input": [
      "experiment = pd.read_csv('experiment/speed_sd.csv')\n",
      "experiment.set_index('mutant', inplace=True)\n",
      "experiment = experiment.T\n",
      "comp = results.T.join(experiment.T)"
     ],
     "language": "python",
     "metadata": {},
     "outputs": [
      {
       "metadata": {},
       "output_type": "pyout",
       "prompt_number": 22,
       "text": [
        "<matplotlib.axes.AxesSubplot at 0x19b8ea90>"
       ]
      },
      {
       "metadata": {},
       "output_type": "display_data",
       "png": "[encoded data removed]",
       "text": [
        "<matplotlib.figure.Figure at 0x19b8e9e8>"
       ]
      }
     ],
     "prompt_number": 22
    },
    {
     "cell_type": "code",
     "collapsed": false,
     "input": [
      "plt.bar(np.arange(1.2, 7), comp['exMean'], align='center', width=.4, yerr=comp['exS.D.'], ecolor='k', label='Experiment')\n",
      "plt.bar(np.arange(.8, 6), comp['simMean'], align='center', width=.4, color='red', yerr=comp['simS.D.'], ecolor='k', label='Simulation')\n",
      "plt.ylabel(r'Speed $s^{-1}$', size='x-large')\n",
      "plt.xlabel('Mutant')\n",
      "plt.legend()\n",
      "plt.xticks(xrange(1,7), comp.index, rotation=90, size='large');"
     ],
     "language": "python",
     "metadata": {},
     "outputs": [
      {
       "metadata": {},
       "output_type": "display_data",
       "png": "[encoded data removed]",
       "text": [
        "<matplotlib.figure.Figure at 0x19bc8be0>"
       ]
      }
     ],
     "prompt_number": 21
    },
    {
     "cell_type": "code",
     "collapsed": false,
     "input": [],
     "language": "python",
     "metadata": {},
     "outputs": []
    }
   ],
   "metadata": {}
  }
 ]
}