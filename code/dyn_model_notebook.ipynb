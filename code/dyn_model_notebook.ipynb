{
 "metadata": {
  "name": ""
 },
 "nbformat": 3,
 "nbformat_minor": 0,
 "worksheets": [
  {
   "cells": [
    {
     "cell_type": "code",
     "collapsed": false,
     "input": [
      "%matplotlib inline\n",
      "import numpy as np\n",
      "import matplotlib.pyplot as plt"
     ],
     "language": "python",
     "metadata": {},
     "outputs": [],
     "prompt_number": 2
    },
    {
     "cell_type": "code",
     "collapsed": false,
     "input": [
      "%run 'cmfunctions.py'"
     ],
     "language": "python",
     "metadata": {},
     "outputs": [],
     "prompt_number": 15
    },
    {
     "cell_type": "code",
     "collapsed": false,
     "input": [
      "%run 'dyn_model.py'"
     ],
     "language": "python",
     "metadata": {},
     "outputs": [],
     "prompt_number": 3
    },
    {
     "cell_type": "code",
     "collapsed": false,
     "input": [
      "rates = read_rates('rates.csv')\n",
      "sg = read_sg('sizes.csv')\n",
      "print \"Rates:\\n\"\n",
      "print rates\n",
      "print \"\\nStepping geometry:\\n\"\n",
      "print sg"
     ],
     "language": "python",
     "metadata": {},
     "outputs": [
      {
       "output_type": "stream",
       "stream": "stdout",
       "text": [
        "Rates:\n",
        "\n",
        "{'h1atprelease': 8.0, 'h2tstepback': 1.5, 'h2tstepforwint': 2.5, 'h2atprelease': 8.0, 'h1tstepback': 1.5, 'h1tstepforwint': 2.5, 'h2nodirrelease': 0.0, 'h2tstepforwslope': 0.208, 'h1tstepforwslope': 0.208}\n",
        "\n",
        "Stepping geometry:\n",
        "\n",
        "{'tensionbias': 8.0, 'diffstop': 20.0, 'distwidth': 16.0, 'tstart': 12.0, 'fwdbias': 8.0}\n"
       ]
      }
     ],
     "prompt_number": 7
    },
    {
     "cell_type": "code",
     "collapsed": false,
     "input": [
      "time_step = 0.005\n",
      "n_iterations = 20000"
     ],
     "language": "python",
     "metadata": {},
     "outputs": [],
     "prompt_number": 8
    },
    {
     "cell_type": "code",
     "collapsed": false,
     "input": [
      "traces = []\n",
      "for i in xrange(2):\n",
      "    if i % 50 == 0:\n",
      "        print \"On trace %s\" % i\n",
      "    rands = np.random.rand(n_iterations)\n",
      "    traces.append(runtrace(rands, rates, sg, time_step, n_iterations))\n",
      "print \"Done.\""
     ],
     "language": "python",
     "metadata": {},
     "outputs": [
      {
       "output_type": "stream",
       "stream": "stdout",
       "text": [
        "On trace 0\n",
        "Done."
       ]
      },
      {
       "output_type": "stream",
       "stream": "stdout",
       "text": [
        "\n"
       ]
      }
     ],
     "prompt_number": 16
    },
    {
     "cell_type": "code",
     "collapsed": false,
     "input": [
      "speeds = [(trace[0][-1] + trace[1][-1])/(2 * n_iterations * time_step) for trace in traces]\n",
      "print \"Mean: %0.1f nm/s\" % np.mean(speeds)\n",
      "print \"S.D.: %0.1f nm/s\" % np.std(speeds)"
     ],
     "language": "python",
     "metadata": {},
     "outputs": [
      {
       "output_type": "stream",
       "stream": "stdout",
       "text": [
        "Mean: 68.8 nm/s\n",
        "S.D.: 1.3 nm/s\n"
       ]
      }
     ],
     "prompt_number": 17
    },
    {
     "cell_type": "code",
     "collapsed": false,
     "input": [
      "plt.hist(speeds)\n",
      "plt.ylabel(\"# of simulations\")\n",
      "plt.xlabel(\"speed (nm/s)\")\n",
      "plt.xlim([0, 100]);"
     ],
     "language": "python",
     "metadata": {},
     "outputs": [
      {
       "metadata": {},
       "output_type": "display_data",
       "png": "[encoded data removed]",
       "text": [
        "<matplotlib.figure.Figure at 0x59b8c30>"
       ]
      }
     ],
     "prompt_number": 11
    },
    {
     "cell_type": "code",
     "collapsed": false,
     "input": [
      "%qtconsole"
     ],
     "language": "python",
     "metadata": {},
     "outputs": [],
     "prompt_number": 3
    }
   ],
   "metadata": {}
  }
 ]
}