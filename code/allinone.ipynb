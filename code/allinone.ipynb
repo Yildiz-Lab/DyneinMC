{
 "metadata": {
  "name": ""
 },
 "nbformat": 3,
 "nbformat_minor": 0,
 "worksheets": [
  {
   "cells": [
    {
     "cell_type": "code",
     "collapsed": false,
     "input": [
      "%matplotlib inline\n",
      "import pandas as pd\n",
      "import numpy as np\n",
      "import matplotlib.pyplot as plt\n",
      "import run_simulation as rs"
     ],
     "language": "python",
     "metadata": {},
     "outputs": [],
     "prompt_number": 114
    },
    {
     "cell_type": "code",
     "collapsed": false,
     "input": [
      "results = rs.run_simulation()"
     ],
     "language": "python",
     "metadata": {},
     "outputs": [
      {
       "output_type": "stream",
       "stream": "stdout",
       "text": [
        "blh_blh\n",
        "Took: 9.82 s\n",
        "Mean: 61.60 nm/s\n",
        "blh_flh"
       ]
      },
      {
       "output_type": "stream",
       "stream": "stdout",
       "text": [
        "\n",
        "Took: 10.37 s\n",
        "Mean: 56.93 nm/s\n",
        "blh_a1flh"
       ]
      },
      {
       "output_type": "stream",
       "stream": "stdout",
       "text": [
        "\n",
        "Took: 10.89 s\n",
        "Mean: 48.67 nm/s\n",
        "blh_a3flh"
       ]
      },
      {
       "output_type": "stream",
       "stream": "stdout",
       "text": [
        "\n",
        "Took: 7.72 s\n",
        "Mean: 29.92 nm/s\n",
        "a3blh_blh"
       ]
      },
      {
       "output_type": "stream",
       "stream": "stdout",
       "text": [
        "\n",
        "Took: 7.81 s\n",
        "Mean: 43.82 nm/s\n",
        "a3blh_flh"
       ]
      },
      {
       "output_type": "stream",
       "stream": "stdout",
       "text": [
        "\n",
        "Took: 9.68 s\n",
        "Mean: 22.59 nm/s\n"
       ]
      }
     ],
     "prompt_number": 115
    },
    {
     "cell_type": "code",
     "collapsed": false,
     "input": [
      "comp = rs.compare_results(results)"
     ],
     "language": "python",
     "metadata": {},
     "outputs": [],
     "prompt_number": 116
    },
    {
     "cell_type": "code",
     "collapsed": false,
     "input": [
      "exMean = comp['exMean']\n",
      "simMean = comp['simMean']\n",
      "plt.bar(np.arange(1.2, 7), exMean, align='center', width=.4, yerr=comp['exS.D.'], ecolor='k', label='Experiment')\n",
      "plt.bar(np.arange(.8, 6), simMean, align='center', width=.4, color='red', yerr=comp['simS.D.'], ecolor='k', label='Simulation')\n",
      "plt.ylabel(r'Speed $s^{-1}$', size='x-large')\n",
      "plt.xlabel('Mutant')\n",
      "plt.legend()\n",
      "plt.xticks(xrange(1,7), comp.index, rotation=90, size='large');"
     ],
     "language": "python",
     "metadata": {},
     "outputs": [
      {
       "metadata": {},
       "output_type": "display_data",
       "png": "[encoded data removed]",
       "text": [
        "<matplotlib.figure.Figure at 0x38b37d68>"
       ]
      }
     ],
     "prompt_number": 117
    }
   ],
   "metadata": {}
  }
 ]
}